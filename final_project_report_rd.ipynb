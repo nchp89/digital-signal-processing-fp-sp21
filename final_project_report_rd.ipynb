{
 "cells": [
  {
   "cell_type": "code",
   "execution_count": 4,
   "id": "2a5cde9d-0339-4993-9889-0b83c80d233d",
   "metadata": {},
   "outputs": [],
   "source": [
    "import numpy as np\n",
    "import pandas as pd\n",
    "import neurokit2 as nk"
   ]
  },
  {
   "cell_type": "code",
   "execution_count": null,
   "id": "ac2c4fa6-7c0d-44bf-adfc-ec382d7bb0d9",
   "metadata": {},
   "outputs": [],
   "source": [
    "# Code pulled from Neurokit2 Gitub page: https://github.com/neuropsychology/NeuroKit"
   ]
  },
  {
   "cell_type": "markdown",
   "id": "f9956dfa-f83d-4f5f-8291-c6decca3756c",
   "metadata": {},
   "source": [
    "Neurokit2 wraps its EDA processing functionality into a convenience function: eda_process(). This function takes in the EDA signal data, the sampling rate, and a choice of method (\"neurokit\" or \"biosppy\") for cleaning the signal. "
   ]
  },
  {
   "cell_type": "code",
   "execution_count": null,
   "id": "c004aef0-34e2-4094-ba11-f666762416d9",
   "metadata": {},
   "outputs": [],
   "source": [
    "# The inner workings of eda_process:\n",
    "\n",
    "def eda_process(eda_signal, sampling_rate=1000, method=\"neurokit\"):\n",
    "    # ...\n",
    "    # Sanitize input\n",
    "    eda_signal = signal_sanitize(eda_signal)\n",
    "\n",
    "    # Series check for non-default index\n",
    "    if type(eda_signal) is pd.Series and type(eda_signal.index) != pd.RangeIndex:\n",
    "        eda_signal = eda_signal.reset_index(drop=True)\n",
    "\n",
    "    # Preprocess\n",
    "    eda_cleaned = eda_clean(eda_signal, sampling_rate=sampling_rate, method=method)\n",
    "    eda_decomposed = eda_phasic(eda_cleaned, sampling_rate=sampling_rate)\n",
    "\n",
    "    # Find peaks\n",
    "    peak_signal, info = eda_peaks(\n",
    "        eda_decomposed[\"EDA_Phasic\"].values,\n",
    "        sampling_rate=sampling_rate,\n",
    "        method=method,\n",
    "        amplitude_min=0.1,\n",
    "    )\n",
    "\n",
    "    # Store\n",
    "    signals = pd.DataFrame({\"EDA_Raw\": eda_signal, \"EDA_Clean\": eda_cleaned})\n",
    "\n",
    "    signals = pd.concat([signals, eda_decomposed, peak_signal], axis=1)\n",
    "\n",
    "    return signals, info"
   ]
  },
  {
   "cell_type": "markdown",
   "id": "139be8ba-f95d-4a3f-a0f4-966852c5821e",
   "metadata": {},
   "source": [
    "## Let's break this down piece by piece to confirm that it's behaving as intended"
   ]
  },
  {
   "cell_type": "markdown",
   "id": "24325b4a-0792-42b4-a364-1a1bf86d5024",
   "metadata": {},
   "source": [
    "### (1) Sanitize Input"
   ]
  },
  {
   "cell_type": "code",
   "execution_count": null,
   "id": "a6be5d88-11ec-4604-a5a6-40b7999c6482",
   "metadata": {},
   "outputs": [],
   "source": [
    "# The first chunk of logic is: Sanitize input\n",
    "eda_signal = signal_sanitize(eda_signal)\n",
    "\n",
    "# Here is the function signal_sanitize\n",
    "def signal_sanitize(signal):\n",
    "    # Series check for non-default index\n",
    "    if type(signal) is pd.Series and type(signal.index) != pd.RangeIndex:\n",
    "        return signal.reset_index(drop=True)\n",
    "\n",
    "    return signal"
   ]
  },
  {
   "cell_type": "code",
   "execution_count": 8,
   "id": "0402c710-9efe-4440-a65e-4e7b72cdaec5",
   "metadata": {},
   "outputs": [],
   "source": [
    "# So this is simply resetting the index of the Series object holding the EDA signal to be a monotonically increasing integer ID. \n",
    "# It seems that this logic is repeated right after the authors call signal_sanitize, so we found some duplicate code."
   ]
  },
  {
   "cell_type": "markdown",
   "id": "ddcfdf40-7b01-4ae1-af4f-79c2caa8fb82",
   "metadata": {},
   "source": [
    "### (2) Preprocess"
   ]
  },
  {
   "cell_type": "code",
   "execution_count": null,
   "id": "6d8f82ee-6656-4bb1-bbbf-87bb88cd5300",
   "metadata": {},
   "outputs": [],
   "source": [
    "# Preprocess starts out by calling the function eda_clean(), which takes our signal data, sampling rate, and choice of method which are \"neurokit\" or \"biosppy\"\n",
    "# If we choose the neurokit method, the following function is called:\n",
    "def _eda_clean_neurokit(eda_signal, sampling_rate=1000):\n",
    "\n",
    "    # Filtering\n",
    "    filtered = signal_filter(eda_signal, sampling_rate=sampling_rate, highcut=3, method=\"butterworth\", order=4)\n",
    "\n",
    "    return filtered\n",
    "\n",
    "# This function low-pass filters our EDA signal using the Butterworth method (https://en.wikipedia.org/wiki/Butterworth_filter) "
   ]
  },
  {
   "cell_type": "code",
   "execution_count": 10,
   "id": "49ec9a69-1e1b-4bb8-ad3d-6ba5028b523a",
   "metadata": {},
   "outputs": [
    {
     "data": {
      "text/plain": [
       "array([0.1171875])"
      ]
     },
     "execution_count": 10,
     "metadata": {},
     "output_type": "execute_result"
    }
   ],
   "source": [
    "np.array([3]) / (51.2/2)"
   ]
  },
  {
   "cell_type": "markdown",
   "id": "aecbf046-375a-490a-8ff2-135ae2a157e7",
   "metadata": {},
   "source": [
    "#PLAN: \n",
    "1. Write brief report about EDA and what we do to it to process the signal and why we care\n",
    "1b. Plot sample signals that we collected in lab\n",
    "\n",
    "2. Motivate rest of project by focusing on the cleaning aspect of EDA processing\n",
    "2a low-pass filtering\n",
    "2b smoothing\n",
    "2c removing corrupted signal segments and connect with a spline\n",
    "\n",
    "3. Step through eda_clean pipeline and use techniques learned in class to check that these are happening as expected. Repeat with A, B, C quality signals\n",
    "3a. DFT to see which frequencies were removed\n",
    "3b. Convolve output with [-1, 1] kernel (1st derivative) to see if smoothing worked\n",
    "3c. Use method in that paper to detect corrupted signal segments. If there's time, connect with a spline\n",
    "\n",
    "4. Discuss findings and implications for our projects in lab. "
   ]
  }
 ],
 "metadata": {
  "kernelspec": {
   "display_name": "Python 3",
   "language": "python",
   "name": "python3"
  },
  "language_info": {
   "codemirror_mode": {
    "name": "ipython",
    "version": 3
   },
   "file_extension": ".py",
   "mimetype": "text/x-python",
   "name": "python",
   "nbconvert_exporter": "python",
   "pygments_lexer": "ipython3",
   "version": "3.9.2"
  }
 },
 "nbformat": 4,
 "nbformat_minor": 5
}
